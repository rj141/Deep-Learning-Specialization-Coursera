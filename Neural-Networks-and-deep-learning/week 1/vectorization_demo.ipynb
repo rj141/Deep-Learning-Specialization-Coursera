{
 "cells": [
  {
   "cell_type": "code",
   "execution_count": 1,
   "id": "12142c5d",
   "metadata": {},
   "outputs": [],
   "source": [
    "import numpy as np"
   ]
  },
  {
   "cell_type": "code",
   "execution_count": 2,
   "id": "c99e8e1b",
   "metadata": {},
   "outputs": [],
   "source": [
    "import time\n"
   ]
  },
  {
   "cell_type": "code",
   "execution_count": 3,
   "id": "41a761be",
   "metadata": {},
   "outputs": [
    {
     "name": "stdout",
     "output_type": "stream",
     "text": [
      "[0.45518231 0.4230537  0.22793978 ... 0.2842564  0.2382993  0.36649508] [0.7782704  0.30299166 0.23159975 ... 0.2960717  0.26370923 0.22952119]\n"
     ]
    }
   ],
   "source": [
    "a = np.random.rand(1000000)\n",
    "b = np.random.rand(1000000)\n",
    "print(a,b)"
   ]
  },
  {
   "cell_type": "code",
   "execution_count": 4,
   "id": "d442a029",
   "metadata": {
    "scrolled": true
   },
   "outputs": [
    {
     "name": "stdout",
     "output_type": "stream",
     "text": [
      "vectorized version :146.2104320526123ms\n"
     ]
    }
   ],
   "source": [
    "tic = time.time()\n",
    "result = np.dot(a,b)\n",
    "toc = time.time()\n",
    "print(\"vectorized version :\" + str(1000*(toc-tic)) + \"ms\")"
   ]
  },
  {
   "cell_type": "code",
   "execution_count": 5,
   "id": "e46b581d",
   "metadata": {},
   "outputs": [],
   "source": [
    "result = 0"
   ]
  },
  {
   "cell_type": "code",
   "execution_count": 6,
   "id": "ad2913ce",
   "metadata": {},
   "outputs": [
    {
     "name": "stdout",
     "output_type": "stream",
     "text": [
      "normal for loop version :1041.013479232788ms\n"
     ]
    }
   ],
   "source": [
    "tic = time.time()\n",
    "for i in range(1000000):\n",
    "    result += a[i]*b[i]\n",
    "toc = time.time()\n",
    "print(\"normal for loop version :\" + str(1000*(toc-tic)) + \"ms\")"
   ]
  },
  {
   "cell_type": "code",
   "execution_count": 7,
   "id": "65d3726e",
   "metadata": {},
   "outputs": [],
   "source": [
    " from scipy.special import expit as sgmd"
   ]
  },
  {
   "cell_type": "code",
   "execution_count": 8,
   "id": "9635424a",
   "metadata": {},
   "outputs": [
    {
     "name": "stdout",
     "output_type": "stream",
     "text": [
      "0.5\n"
     ]
    }
   ],
   "source": [
    "print(sgmd(0))"
   ]
  },
  {
   "cell_type": "code",
   "execution_count": null,
   "id": "61c655c9",
   "metadata": {},
   "outputs": [],
   "source": []
  }
 ],
 "metadata": {
  "kernelspec": {
   "display_name": "Python 3 (ipykernel)",
   "language": "python",
   "name": "python3"
  },
  "language_info": {
   "codemirror_mode": {
    "name": "ipython",
    "version": 3
   },
   "file_extension": ".py",
   "mimetype": "text/x-python",
   "name": "python",
   "nbconvert_exporter": "python",
   "pygments_lexer": "ipython3",
   "version": "3.10.10"
  }
 },
 "nbformat": 4,
 "nbformat_minor": 5
}
