{
 "cells": [
  {
   "cell_type": "code",
   "execution_count": 1,
   "id": "bfd536ef",
   "metadata": {},
   "outputs": [],
   "source": [
    "import numpy as np\n"
   ]
  },
  {
   "cell_type": "code",
   "execution_count": 2,
   "id": "6e3f97f9",
   "metadata": {},
   "outputs": [
    {
     "name": "stdout",
     "output_type": "stream",
     "text": [
      "[[ 1  2  3  4]\n",
      " [ 5  6  7  8]\n",
      " [ 9 10 11 12]] <class 'numpy.ndarray'>\n"
     ]
    }
   ],
   "source": [
    "a = np.array([[1,2,3,4],\n",
    "              [5,6,7,8],\n",
    "              [9,10,11,12]])\n",
    "print(a, type(a))"
   ]
  },
  {
   "cell_type": "code",
   "execution_count": 3,
   "id": "706c782e",
   "metadata": {},
   "outputs": [
    {
     "name": "stdout",
     "output_type": "stream",
     "text": [
      "[15 18 21 24] (4,)\n"
     ]
    }
   ],
   "source": [
    "cal = a.sum(axis=0)\n",
    "print(cal, cal.shape)"
   ]
  },
  {
   "cell_type": "raw",
   "id": "03b88e83",
   "metadata": {},
   "source": []
  },
  {
   "cell_type": "code",
   "execution_count": 4,
   "id": "3b5f3dd0",
   "metadata": {},
   "outputs": [
    {
     "name": "stdout",
     "output_type": "stream",
     "text": [
      "[15 18 21 24] (4,) <class 'numpy.ndarray'> [15 18 21 24] (4,)\n"
     ]
    }
   ],
   "source": [
    "print(cal, cal.shape, type(cal), cal.T, cal.T.shape)"
   ]
  },
  {
   "cell_type": "code",
   "execution_count": 5,
   "id": "59f19110",
   "metadata": {},
   "outputs": [
    {
     "name": "stdout",
     "output_type": "stream",
     "text": [
      "[[15]\n",
      " [18]\n",
      " [21]\n",
      " [24]] <class 'numpy.ndarray'> (4, 1)\n"
     ]
    }
   ],
   "source": [
    "temp =  cal.reshape(4,1)\n",
    "print(temp , type(temp), temp.shape)"
   ]
  },
  {
   "cell_type": "code",
   "execution_count": null,
   "id": "650c7841",
   "metadata": {},
   "outputs": [],
   "source": []
  },
  {
   "cell_type": "code",
   "execution_count": null,
   "id": "6427ac4f",
   "metadata": {},
   "outputs": [],
   "source": []
  }
 ],
 "metadata": {
  "kernelspec": {
   "display_name": "Python 3 (ipykernel)",
   "language": "python",
   "name": "python3"
  },
  "language_info": {
   "codemirror_mode": {
    "name": "ipython",
    "version": 3
   },
   "file_extension": ".py",
   "mimetype": "text/x-python",
   "name": "python",
   "nbconvert_exporter": "python",
   "pygments_lexer": "ipython3",
   "version": "3.10.10"
  }
 },
 "nbformat": 4,
 "nbformat_minor": 5
}
